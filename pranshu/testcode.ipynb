{
 "cells": [
  {
   "cell_type": "code",
   "execution_count": 1,
   "metadata": {},
   "outputs": [],
   "source": [
    "import docker\n",
    "from zipfile import ZipFile\n",
    "client = docker.from_env()"
   ]
  },
  {
   "cell_type": "code",
   "execution_count": 2,
   "metadata": {},
   "outputs": [
    {
     "ename": "ConnectionError",
     "evalue": "('Connection aborted.', PermissionError(13, 'Permission denied'))",
     "output_type": "error",
     "traceback": [
      "\u001b[0;31m---------------------------------------------------------------------------\u001b[0m",
      "\u001b[0;31mPermissionError\u001b[0m                           Traceback (most recent call last)",
      "File \u001b[0;32m~/.local/lib/python3.8/site-packages/urllib3/connectionpool.py:703\u001b[0m, in \u001b[0;36mHTTPConnectionPool.urlopen\u001b[0;34m(self, method, url, body, headers, retries, redirect, assert_same_host, timeout, pool_timeout, release_conn, chunked, body_pos, **response_kw)\u001b[0m\n\u001b[1;32m    <a href='file:///home/pranshu/.local/lib/python3.8/site-packages/urllib3/connectionpool.py?line=701'>702</a>\u001b[0m \u001b[39m# Make the request on the httplib connection object.\u001b[39;00m\n\u001b[0;32m--> <a href='file:///home/pranshu/.local/lib/python3.8/site-packages/urllib3/connectionpool.py?line=702'>703</a>\u001b[0m httplib_response \u001b[39m=\u001b[39m \u001b[39mself\u001b[39;49m\u001b[39m.\u001b[39;49m_make_request(\n\u001b[1;32m    <a href='file:///home/pranshu/.local/lib/python3.8/site-packages/urllib3/connectionpool.py?line=703'>704</a>\u001b[0m     conn,\n\u001b[1;32m    <a href='file:///home/pranshu/.local/lib/python3.8/site-packages/urllib3/connectionpool.py?line=704'>705</a>\u001b[0m     method,\n\u001b[1;32m    <a href='file:///home/pranshu/.local/lib/python3.8/site-packages/urllib3/connectionpool.py?line=705'>706</a>\u001b[0m     url,\n\u001b[1;32m    <a href='file:///home/pranshu/.local/lib/python3.8/site-packages/urllib3/connectionpool.py?line=706'>707</a>\u001b[0m     timeout\u001b[39m=\u001b[39;49mtimeout_obj,\n\u001b[1;32m    <a href='file:///home/pranshu/.local/lib/python3.8/site-packages/urllib3/connectionpool.py?line=707'>708</a>\u001b[0m     body\u001b[39m=\u001b[39;49mbody,\n\u001b[1;32m    <a href='file:///home/pranshu/.local/lib/python3.8/site-packages/urllib3/connectionpool.py?line=708'>709</a>\u001b[0m     headers\u001b[39m=\u001b[39;49mheaders,\n\u001b[1;32m    <a href='file:///home/pranshu/.local/lib/python3.8/site-packages/urllib3/connectionpool.py?line=709'>710</a>\u001b[0m     chunked\u001b[39m=\u001b[39;49mchunked,\n\u001b[1;32m    <a href='file:///home/pranshu/.local/lib/python3.8/site-packages/urllib3/connectionpool.py?line=710'>711</a>\u001b[0m )\n\u001b[1;32m    <a href='file:///home/pranshu/.local/lib/python3.8/site-packages/urllib3/connectionpool.py?line=712'>713</a>\u001b[0m \u001b[39m# If we're going to release the connection in ``finally:``, then\u001b[39;00m\n\u001b[1;32m    <a href='file:///home/pranshu/.local/lib/python3.8/site-packages/urllib3/connectionpool.py?line=713'>714</a>\u001b[0m \u001b[39m# the response doesn't need to know about the connection. Otherwise\u001b[39;00m\n\u001b[1;32m    <a href='file:///home/pranshu/.local/lib/python3.8/site-packages/urllib3/connectionpool.py?line=714'>715</a>\u001b[0m \u001b[39m# it will also try to release it and we'll have a double-release\u001b[39;00m\n\u001b[1;32m    <a href='file:///home/pranshu/.local/lib/python3.8/site-packages/urllib3/connectionpool.py?line=715'>716</a>\u001b[0m \u001b[39m# mess.\u001b[39;00m\n",
      "File \u001b[0;32m~/.local/lib/python3.8/site-packages/urllib3/connectionpool.py:398\u001b[0m, in \u001b[0;36mHTTPConnectionPool._make_request\u001b[0;34m(self, conn, method, url, timeout, chunked, **httplib_request_kw)\u001b[0m\n\u001b[1;32m    <a href='file:///home/pranshu/.local/lib/python3.8/site-packages/urllib3/connectionpool.py?line=396'>397</a>\u001b[0m     \u001b[39melse\u001b[39;00m:\n\u001b[0;32m--> <a href='file:///home/pranshu/.local/lib/python3.8/site-packages/urllib3/connectionpool.py?line=397'>398</a>\u001b[0m         conn\u001b[39m.\u001b[39;49mrequest(method, url, \u001b[39m*\u001b[39;49m\u001b[39m*\u001b[39;49mhttplib_request_kw)\n\u001b[1;32m    <a href='file:///home/pranshu/.local/lib/python3.8/site-packages/urllib3/connectionpool.py?line=399'>400</a>\u001b[0m \u001b[39m# We are swallowing BrokenPipeError (errno.EPIPE) since the server is\u001b[39;00m\n\u001b[1;32m    <a href='file:///home/pranshu/.local/lib/python3.8/site-packages/urllib3/connectionpool.py?line=400'>401</a>\u001b[0m \u001b[39m# legitimately able to close the connection after sending a valid response.\u001b[39;00m\n\u001b[1;32m    <a href='file:///home/pranshu/.local/lib/python3.8/site-packages/urllib3/connectionpool.py?line=401'>402</a>\u001b[0m \u001b[39m# With this behaviour, the received response is still readable.\u001b[39;00m\n",
      "File \u001b[0;32m/usr/lib/python3.8/http/client.py:1256\u001b[0m, in \u001b[0;36mHTTPConnection.request\u001b[0;34m(self, method, url, body, headers, encode_chunked)\u001b[0m\n\u001b[1;32m   <a href='file:///usr/lib/python3.8/http/client.py?line=1254'>1255</a>\u001b[0m \u001b[39m\"\"\"Send a complete request to the server.\"\"\"\u001b[39;00m\n\u001b[0;32m-> <a href='file:///usr/lib/python3.8/http/client.py?line=1255'>1256</a>\u001b[0m \u001b[39mself\u001b[39;49m\u001b[39m.\u001b[39;49m_send_request(method, url, body, headers, encode_chunked)\n",
      "File \u001b[0;32m/usr/lib/python3.8/http/client.py:1302\u001b[0m, in \u001b[0;36mHTTPConnection._send_request\u001b[0;34m(self, method, url, body, headers, encode_chunked)\u001b[0m\n\u001b[1;32m   <a href='file:///usr/lib/python3.8/http/client.py?line=1300'>1301</a>\u001b[0m     body \u001b[39m=\u001b[39m _encode(body, \u001b[39m'\u001b[39m\u001b[39mbody\u001b[39m\u001b[39m'\u001b[39m)\n\u001b[0;32m-> <a href='file:///usr/lib/python3.8/http/client.py?line=1301'>1302</a>\u001b[0m \u001b[39mself\u001b[39;49m\u001b[39m.\u001b[39;49mendheaders(body, encode_chunked\u001b[39m=\u001b[39;49mencode_chunked)\n",
      "File \u001b[0;32m/usr/lib/python3.8/http/client.py:1251\u001b[0m, in \u001b[0;36mHTTPConnection.endheaders\u001b[0;34m(self, message_body, encode_chunked)\u001b[0m\n\u001b[1;32m   <a href='file:///usr/lib/python3.8/http/client.py?line=1249'>1250</a>\u001b[0m     \u001b[39mraise\u001b[39;00m CannotSendHeader()\n\u001b[0;32m-> <a href='file:///usr/lib/python3.8/http/client.py?line=1250'>1251</a>\u001b[0m \u001b[39mself\u001b[39;49m\u001b[39m.\u001b[39;49m_send_output(message_body, encode_chunked\u001b[39m=\u001b[39;49mencode_chunked)\n",
      "File \u001b[0;32m/usr/lib/python3.8/http/client.py:1011\u001b[0m, in \u001b[0;36mHTTPConnection._send_output\u001b[0;34m(self, message_body, encode_chunked)\u001b[0m\n\u001b[1;32m   <a href='file:///usr/lib/python3.8/http/client.py?line=1009'>1010</a>\u001b[0m \u001b[39mdel\u001b[39;00m \u001b[39mself\u001b[39m\u001b[39m.\u001b[39m_buffer[:]\n\u001b[0;32m-> <a href='file:///usr/lib/python3.8/http/client.py?line=1010'>1011</a>\u001b[0m \u001b[39mself\u001b[39;49m\u001b[39m.\u001b[39;49msend(msg)\n\u001b[1;32m   <a href='file:///usr/lib/python3.8/http/client.py?line=1012'>1013</a>\u001b[0m \u001b[39mif\u001b[39;00m message_body \u001b[39mis\u001b[39;00m \u001b[39mnot\u001b[39;00m \u001b[39mNone\u001b[39;00m:\n\u001b[1;32m   <a href='file:///usr/lib/python3.8/http/client.py?line=1013'>1014</a>\u001b[0m \n\u001b[1;32m   <a href='file:///usr/lib/python3.8/http/client.py?line=1014'>1015</a>\u001b[0m     \u001b[39m# create a consistent interface to message_body\u001b[39;00m\n",
      "File \u001b[0;32m/usr/lib/python3.8/http/client.py:951\u001b[0m, in \u001b[0;36mHTTPConnection.send\u001b[0;34m(self, data)\u001b[0m\n\u001b[1;32m    <a href='file:///usr/lib/python3.8/http/client.py?line=949'>950</a>\u001b[0m \u001b[39mif\u001b[39;00m \u001b[39mself\u001b[39m\u001b[39m.\u001b[39mauto_open:\n\u001b[0;32m--> <a href='file:///usr/lib/python3.8/http/client.py?line=950'>951</a>\u001b[0m     \u001b[39mself\u001b[39;49m\u001b[39m.\u001b[39;49mconnect()\n\u001b[1;32m    <a href='file:///usr/lib/python3.8/http/client.py?line=951'>952</a>\u001b[0m \u001b[39melse\u001b[39;00m:\n",
      "File \u001b[0;32m/usr/lib/python3/dist-packages/docker/transport/unixconn.py:43\u001b[0m, in \u001b[0;36mUnixHTTPConnection.connect\u001b[0;34m(self)\u001b[0m\n\u001b[1;32m     <a href='file:///usr/lib/python3/dist-packages/docker/transport/unixconn.py?line=41'>42</a>\u001b[0m sock\u001b[39m.\u001b[39msettimeout(\u001b[39mself\u001b[39m\u001b[39m.\u001b[39mtimeout)\n\u001b[0;32m---> <a href='file:///usr/lib/python3/dist-packages/docker/transport/unixconn.py?line=42'>43</a>\u001b[0m sock\u001b[39m.\u001b[39;49mconnect(\u001b[39mself\u001b[39;49m\u001b[39m.\u001b[39;49munix_socket)\n\u001b[1;32m     <a href='file:///usr/lib/python3/dist-packages/docker/transport/unixconn.py?line=43'>44</a>\u001b[0m \u001b[39mself\u001b[39m\u001b[39m.\u001b[39msock \u001b[39m=\u001b[39m sock\n",
      "\u001b[0;31mPermissionError\u001b[0m: [Errno 13] Permission denied",
      "\nDuring handling of the above exception, another exception occurred:\n",
      "\u001b[0;31mProtocolError\u001b[0m                             Traceback (most recent call last)",
      "File \u001b[0;32m~/.local/lib/python3.8/site-packages/requests/adapters.py:440\u001b[0m, in \u001b[0;36mHTTPAdapter.send\u001b[0;34m(self, request, stream, timeout, verify, cert, proxies)\u001b[0m\n\u001b[1;32m    <a href='file:///home/pranshu/.local/lib/python3.8/site-packages/requests/adapters.py?line=438'>439</a>\u001b[0m \u001b[39mif\u001b[39;00m \u001b[39mnot\u001b[39;00m chunked:\n\u001b[0;32m--> <a href='file:///home/pranshu/.local/lib/python3.8/site-packages/requests/adapters.py?line=439'>440</a>\u001b[0m     resp \u001b[39m=\u001b[39m conn\u001b[39m.\u001b[39;49murlopen(\n\u001b[1;32m    <a href='file:///home/pranshu/.local/lib/python3.8/site-packages/requests/adapters.py?line=440'>441</a>\u001b[0m         method\u001b[39m=\u001b[39;49mrequest\u001b[39m.\u001b[39;49mmethod,\n\u001b[1;32m    <a href='file:///home/pranshu/.local/lib/python3.8/site-packages/requests/adapters.py?line=441'>442</a>\u001b[0m         url\u001b[39m=\u001b[39;49murl,\n\u001b[1;32m    <a href='file:///home/pranshu/.local/lib/python3.8/site-packages/requests/adapters.py?line=442'>443</a>\u001b[0m         body\u001b[39m=\u001b[39;49mrequest\u001b[39m.\u001b[39;49mbody,\n\u001b[1;32m    <a href='file:///home/pranshu/.local/lib/python3.8/site-packages/requests/adapters.py?line=443'>444</a>\u001b[0m         headers\u001b[39m=\u001b[39;49mrequest\u001b[39m.\u001b[39;49mheaders,\n\u001b[1;32m    <a href='file:///home/pranshu/.local/lib/python3.8/site-packages/requests/adapters.py?line=444'>445</a>\u001b[0m         redirect\u001b[39m=\u001b[39;49m\u001b[39mFalse\u001b[39;49;00m,\n\u001b[1;32m    <a href='file:///home/pranshu/.local/lib/python3.8/site-packages/requests/adapters.py?line=445'>446</a>\u001b[0m         assert_same_host\u001b[39m=\u001b[39;49m\u001b[39mFalse\u001b[39;49;00m,\n\u001b[1;32m    <a href='file:///home/pranshu/.local/lib/python3.8/site-packages/requests/adapters.py?line=446'>447</a>\u001b[0m         preload_content\u001b[39m=\u001b[39;49m\u001b[39mFalse\u001b[39;49;00m,\n\u001b[1;32m    <a href='file:///home/pranshu/.local/lib/python3.8/site-packages/requests/adapters.py?line=447'>448</a>\u001b[0m         decode_content\u001b[39m=\u001b[39;49m\u001b[39mFalse\u001b[39;49;00m,\n\u001b[1;32m    <a href='file:///home/pranshu/.local/lib/python3.8/site-packages/requests/adapters.py?line=448'>449</a>\u001b[0m         retries\u001b[39m=\u001b[39;49m\u001b[39mself\u001b[39;49m\u001b[39m.\u001b[39;49mmax_retries,\n\u001b[1;32m    <a href='file:///home/pranshu/.local/lib/python3.8/site-packages/requests/adapters.py?line=449'>450</a>\u001b[0m         timeout\u001b[39m=\u001b[39;49mtimeout\n\u001b[1;32m    <a href='file:///home/pranshu/.local/lib/python3.8/site-packages/requests/adapters.py?line=450'>451</a>\u001b[0m     )\n\u001b[1;32m    <a href='file:///home/pranshu/.local/lib/python3.8/site-packages/requests/adapters.py?line=452'>453</a>\u001b[0m \u001b[39m# Send the request.\u001b[39;00m\n\u001b[1;32m    <a href='file:///home/pranshu/.local/lib/python3.8/site-packages/requests/adapters.py?line=453'>454</a>\u001b[0m \u001b[39melse\u001b[39;00m:\n",
      "File \u001b[0;32m~/.local/lib/python3.8/site-packages/urllib3/connectionpool.py:785\u001b[0m, in \u001b[0;36mHTTPConnectionPool.urlopen\u001b[0;34m(self, method, url, body, headers, retries, redirect, assert_same_host, timeout, pool_timeout, release_conn, chunked, body_pos, **response_kw)\u001b[0m\n\u001b[1;32m    <a href='file:///home/pranshu/.local/lib/python3.8/site-packages/urllib3/connectionpool.py?line=782'>783</a>\u001b[0m     e \u001b[39m=\u001b[39m ProtocolError(\u001b[39m\"\u001b[39m\u001b[39mConnection aborted.\u001b[39m\u001b[39m\"\u001b[39m, e)\n\u001b[0;32m--> <a href='file:///home/pranshu/.local/lib/python3.8/site-packages/urllib3/connectionpool.py?line=784'>785</a>\u001b[0m retries \u001b[39m=\u001b[39m retries\u001b[39m.\u001b[39;49mincrement(\n\u001b[1;32m    <a href='file:///home/pranshu/.local/lib/python3.8/site-packages/urllib3/connectionpool.py?line=785'>786</a>\u001b[0m     method, url, error\u001b[39m=\u001b[39;49me, _pool\u001b[39m=\u001b[39;49m\u001b[39mself\u001b[39;49m, _stacktrace\u001b[39m=\u001b[39;49msys\u001b[39m.\u001b[39;49mexc_info()[\u001b[39m2\u001b[39;49m]\n\u001b[1;32m    <a href='file:///home/pranshu/.local/lib/python3.8/site-packages/urllib3/connectionpool.py?line=786'>787</a>\u001b[0m )\n\u001b[1;32m    <a href='file:///home/pranshu/.local/lib/python3.8/site-packages/urllib3/connectionpool.py?line=787'>788</a>\u001b[0m retries\u001b[39m.\u001b[39msleep()\n",
      "File \u001b[0;32m~/.local/lib/python3.8/site-packages/urllib3/util/retry.py:550\u001b[0m, in \u001b[0;36mRetry.increment\u001b[0;34m(self, method, url, response, error, _pool, _stacktrace)\u001b[0m\n\u001b[1;32m    <a href='file:///home/pranshu/.local/lib/python3.8/site-packages/urllib3/util/retry.py?line=548'>549</a>\u001b[0m \u001b[39mif\u001b[39;00m read \u001b[39mis\u001b[39;00m \u001b[39mFalse\u001b[39;00m \u001b[39mor\u001b[39;00m \u001b[39mnot\u001b[39;00m \u001b[39mself\u001b[39m\u001b[39m.\u001b[39m_is_method_retryable(method):\n\u001b[0;32m--> <a href='file:///home/pranshu/.local/lib/python3.8/site-packages/urllib3/util/retry.py?line=549'>550</a>\u001b[0m     \u001b[39mraise\u001b[39;00m six\u001b[39m.\u001b[39;49mreraise(\u001b[39mtype\u001b[39;49m(error), error, _stacktrace)\n\u001b[1;32m    <a href='file:///home/pranshu/.local/lib/python3.8/site-packages/urllib3/util/retry.py?line=550'>551</a>\u001b[0m \u001b[39melif\u001b[39;00m read \u001b[39mis\u001b[39;00m \u001b[39mnot\u001b[39;00m \u001b[39mNone\u001b[39;00m:\n",
      "File \u001b[0;32m~/.local/lib/python3.8/site-packages/urllib3/packages/six.py:769\u001b[0m, in \u001b[0;36mreraise\u001b[0;34m(tp, value, tb)\u001b[0m\n\u001b[1;32m    <a href='file:///home/pranshu/.local/lib/python3.8/site-packages/urllib3/packages/six.py?line=767'>768</a>\u001b[0m \u001b[39mif\u001b[39;00m value\u001b[39m.\u001b[39m__traceback__ \u001b[39mis\u001b[39;00m \u001b[39mnot\u001b[39;00m tb:\n\u001b[0;32m--> <a href='file:///home/pranshu/.local/lib/python3.8/site-packages/urllib3/packages/six.py?line=768'>769</a>\u001b[0m     \u001b[39mraise\u001b[39;00m value\u001b[39m.\u001b[39mwith_traceback(tb)\n\u001b[1;32m    <a href='file:///home/pranshu/.local/lib/python3.8/site-packages/urllib3/packages/six.py?line=769'>770</a>\u001b[0m \u001b[39mraise\u001b[39;00m value\n",
      "File \u001b[0;32m~/.local/lib/python3.8/site-packages/urllib3/connectionpool.py:703\u001b[0m, in \u001b[0;36mHTTPConnectionPool.urlopen\u001b[0;34m(self, method, url, body, headers, retries, redirect, assert_same_host, timeout, pool_timeout, release_conn, chunked, body_pos, **response_kw)\u001b[0m\n\u001b[1;32m    <a href='file:///home/pranshu/.local/lib/python3.8/site-packages/urllib3/connectionpool.py?line=701'>702</a>\u001b[0m \u001b[39m# Make the request on the httplib connection object.\u001b[39;00m\n\u001b[0;32m--> <a href='file:///home/pranshu/.local/lib/python3.8/site-packages/urllib3/connectionpool.py?line=702'>703</a>\u001b[0m httplib_response \u001b[39m=\u001b[39m \u001b[39mself\u001b[39;49m\u001b[39m.\u001b[39;49m_make_request(\n\u001b[1;32m    <a href='file:///home/pranshu/.local/lib/python3.8/site-packages/urllib3/connectionpool.py?line=703'>704</a>\u001b[0m     conn,\n\u001b[1;32m    <a href='file:///home/pranshu/.local/lib/python3.8/site-packages/urllib3/connectionpool.py?line=704'>705</a>\u001b[0m     method,\n\u001b[1;32m    <a href='file:///home/pranshu/.local/lib/python3.8/site-packages/urllib3/connectionpool.py?line=705'>706</a>\u001b[0m     url,\n\u001b[1;32m    <a href='file:///home/pranshu/.local/lib/python3.8/site-packages/urllib3/connectionpool.py?line=706'>707</a>\u001b[0m     timeout\u001b[39m=\u001b[39;49mtimeout_obj,\n\u001b[1;32m    <a href='file:///home/pranshu/.local/lib/python3.8/site-packages/urllib3/connectionpool.py?line=707'>708</a>\u001b[0m     body\u001b[39m=\u001b[39;49mbody,\n\u001b[1;32m    <a href='file:///home/pranshu/.local/lib/python3.8/site-packages/urllib3/connectionpool.py?line=708'>709</a>\u001b[0m     headers\u001b[39m=\u001b[39;49mheaders,\n\u001b[1;32m    <a href='file:///home/pranshu/.local/lib/python3.8/site-packages/urllib3/connectionpool.py?line=709'>710</a>\u001b[0m     chunked\u001b[39m=\u001b[39;49mchunked,\n\u001b[1;32m    <a href='file:///home/pranshu/.local/lib/python3.8/site-packages/urllib3/connectionpool.py?line=710'>711</a>\u001b[0m )\n\u001b[1;32m    <a href='file:///home/pranshu/.local/lib/python3.8/site-packages/urllib3/connectionpool.py?line=712'>713</a>\u001b[0m \u001b[39m# If we're going to release the connection in ``finally:``, then\u001b[39;00m\n\u001b[1;32m    <a href='file:///home/pranshu/.local/lib/python3.8/site-packages/urllib3/connectionpool.py?line=713'>714</a>\u001b[0m \u001b[39m# the response doesn't need to know about the connection. Otherwise\u001b[39;00m\n\u001b[1;32m    <a href='file:///home/pranshu/.local/lib/python3.8/site-packages/urllib3/connectionpool.py?line=714'>715</a>\u001b[0m \u001b[39m# it will also try to release it and we'll have a double-release\u001b[39;00m\n\u001b[1;32m    <a href='file:///home/pranshu/.local/lib/python3.8/site-packages/urllib3/connectionpool.py?line=715'>716</a>\u001b[0m \u001b[39m# mess.\u001b[39;00m\n",
      "File \u001b[0;32m~/.local/lib/python3.8/site-packages/urllib3/connectionpool.py:398\u001b[0m, in \u001b[0;36mHTTPConnectionPool._make_request\u001b[0;34m(self, conn, method, url, timeout, chunked, **httplib_request_kw)\u001b[0m\n\u001b[1;32m    <a href='file:///home/pranshu/.local/lib/python3.8/site-packages/urllib3/connectionpool.py?line=396'>397</a>\u001b[0m     \u001b[39melse\u001b[39;00m:\n\u001b[0;32m--> <a href='file:///home/pranshu/.local/lib/python3.8/site-packages/urllib3/connectionpool.py?line=397'>398</a>\u001b[0m         conn\u001b[39m.\u001b[39;49mrequest(method, url, \u001b[39m*\u001b[39;49m\u001b[39m*\u001b[39;49mhttplib_request_kw)\n\u001b[1;32m    <a href='file:///home/pranshu/.local/lib/python3.8/site-packages/urllib3/connectionpool.py?line=399'>400</a>\u001b[0m \u001b[39m# We are swallowing BrokenPipeError (errno.EPIPE) since the server is\u001b[39;00m\n\u001b[1;32m    <a href='file:///home/pranshu/.local/lib/python3.8/site-packages/urllib3/connectionpool.py?line=400'>401</a>\u001b[0m \u001b[39m# legitimately able to close the connection after sending a valid response.\u001b[39;00m\n\u001b[1;32m    <a href='file:///home/pranshu/.local/lib/python3.8/site-packages/urllib3/connectionpool.py?line=401'>402</a>\u001b[0m \u001b[39m# With this behaviour, the received response is still readable.\u001b[39;00m\n",
      "File \u001b[0;32m/usr/lib/python3.8/http/client.py:1256\u001b[0m, in \u001b[0;36mHTTPConnection.request\u001b[0;34m(self, method, url, body, headers, encode_chunked)\u001b[0m\n\u001b[1;32m   <a href='file:///usr/lib/python3.8/http/client.py?line=1254'>1255</a>\u001b[0m \u001b[39m\"\"\"Send a complete request to the server.\"\"\"\u001b[39;00m\n\u001b[0;32m-> <a href='file:///usr/lib/python3.8/http/client.py?line=1255'>1256</a>\u001b[0m \u001b[39mself\u001b[39;49m\u001b[39m.\u001b[39;49m_send_request(method, url, body, headers, encode_chunked)\n",
      "File \u001b[0;32m/usr/lib/python3.8/http/client.py:1302\u001b[0m, in \u001b[0;36mHTTPConnection._send_request\u001b[0;34m(self, method, url, body, headers, encode_chunked)\u001b[0m\n\u001b[1;32m   <a href='file:///usr/lib/python3.8/http/client.py?line=1300'>1301</a>\u001b[0m     body \u001b[39m=\u001b[39m _encode(body, \u001b[39m'\u001b[39m\u001b[39mbody\u001b[39m\u001b[39m'\u001b[39m)\n\u001b[0;32m-> <a href='file:///usr/lib/python3.8/http/client.py?line=1301'>1302</a>\u001b[0m \u001b[39mself\u001b[39;49m\u001b[39m.\u001b[39;49mendheaders(body, encode_chunked\u001b[39m=\u001b[39;49mencode_chunked)\n",
      "File \u001b[0;32m/usr/lib/python3.8/http/client.py:1251\u001b[0m, in \u001b[0;36mHTTPConnection.endheaders\u001b[0;34m(self, message_body, encode_chunked)\u001b[0m\n\u001b[1;32m   <a href='file:///usr/lib/python3.8/http/client.py?line=1249'>1250</a>\u001b[0m     \u001b[39mraise\u001b[39;00m CannotSendHeader()\n\u001b[0;32m-> <a href='file:///usr/lib/python3.8/http/client.py?line=1250'>1251</a>\u001b[0m \u001b[39mself\u001b[39;49m\u001b[39m.\u001b[39;49m_send_output(message_body, encode_chunked\u001b[39m=\u001b[39;49mencode_chunked)\n",
      "File \u001b[0;32m/usr/lib/python3.8/http/client.py:1011\u001b[0m, in \u001b[0;36mHTTPConnection._send_output\u001b[0;34m(self, message_body, encode_chunked)\u001b[0m\n\u001b[1;32m   <a href='file:///usr/lib/python3.8/http/client.py?line=1009'>1010</a>\u001b[0m \u001b[39mdel\u001b[39;00m \u001b[39mself\u001b[39m\u001b[39m.\u001b[39m_buffer[:]\n\u001b[0;32m-> <a href='file:///usr/lib/python3.8/http/client.py?line=1010'>1011</a>\u001b[0m \u001b[39mself\u001b[39;49m\u001b[39m.\u001b[39;49msend(msg)\n\u001b[1;32m   <a href='file:///usr/lib/python3.8/http/client.py?line=1012'>1013</a>\u001b[0m \u001b[39mif\u001b[39;00m message_body \u001b[39mis\u001b[39;00m \u001b[39mnot\u001b[39;00m \u001b[39mNone\u001b[39;00m:\n\u001b[1;32m   <a href='file:///usr/lib/python3.8/http/client.py?line=1013'>1014</a>\u001b[0m \n\u001b[1;32m   <a href='file:///usr/lib/python3.8/http/client.py?line=1014'>1015</a>\u001b[0m     \u001b[39m# create a consistent interface to message_body\u001b[39;00m\n",
      "File \u001b[0;32m/usr/lib/python3.8/http/client.py:951\u001b[0m, in \u001b[0;36mHTTPConnection.send\u001b[0;34m(self, data)\u001b[0m\n\u001b[1;32m    <a href='file:///usr/lib/python3.8/http/client.py?line=949'>950</a>\u001b[0m \u001b[39mif\u001b[39;00m \u001b[39mself\u001b[39m\u001b[39m.\u001b[39mauto_open:\n\u001b[0;32m--> <a href='file:///usr/lib/python3.8/http/client.py?line=950'>951</a>\u001b[0m     \u001b[39mself\u001b[39;49m\u001b[39m.\u001b[39;49mconnect()\n\u001b[1;32m    <a href='file:///usr/lib/python3.8/http/client.py?line=951'>952</a>\u001b[0m \u001b[39melse\u001b[39;00m:\n",
      "File \u001b[0;32m/usr/lib/python3/dist-packages/docker/transport/unixconn.py:43\u001b[0m, in \u001b[0;36mUnixHTTPConnection.connect\u001b[0;34m(self)\u001b[0m\n\u001b[1;32m     <a href='file:///usr/lib/python3/dist-packages/docker/transport/unixconn.py?line=41'>42</a>\u001b[0m sock\u001b[39m.\u001b[39msettimeout(\u001b[39mself\u001b[39m\u001b[39m.\u001b[39mtimeout)\n\u001b[0;32m---> <a href='file:///usr/lib/python3/dist-packages/docker/transport/unixconn.py?line=42'>43</a>\u001b[0m sock\u001b[39m.\u001b[39;49mconnect(\u001b[39mself\u001b[39;49m\u001b[39m.\u001b[39;49munix_socket)\n\u001b[1;32m     <a href='file:///usr/lib/python3/dist-packages/docker/transport/unixconn.py?line=43'>44</a>\u001b[0m \u001b[39mself\u001b[39m\u001b[39m.\u001b[39msock \u001b[39m=\u001b[39m sock\n",
      "\u001b[0;31mProtocolError\u001b[0m: ('Connection aborted.', PermissionError(13, 'Permission denied'))",
      "\nDuring handling of the above exception, another exception occurred:\n",
      "\u001b[0;31mConnectionError\u001b[0m                           Traceback (most recent call last)",
      "\u001b[1;32m/home/pranshu/pranshu/courses/SP/project/testcode.ipynb Cell 2'\u001b[0m in \u001b[0;36m<cell line: 1>\u001b[0;34m()\u001b[0m\n\u001b[0;32m----> <a href='vscode-notebook-cell:/home/pranshu/pranshu/courses/SP/project/testcode.ipynb#ch0000001?line=0'>1</a>\u001b[0m \u001b[39mprint\u001b[39m(client\u001b[39m.\u001b[39;49mcontainers\u001b[39m.\u001b[39;49mlist())\n",
      "File \u001b[0;32m/usr/lib/python3/dist-packages/docker/models/containers.py:935\u001b[0m, in \u001b[0;36mContainerCollection.list\u001b[0;34m(self, all, before, filters, limit, since, sparse, ignore_removed)\u001b[0m\n\u001b[1;32m    <a href='file:///usr/lib/python3/dist-packages/docker/models/containers.py?line=882'>883</a>\u001b[0m \u001b[39mdef\u001b[39;00m \u001b[39mlist\u001b[39m(\u001b[39mself\u001b[39m, \u001b[39mall\u001b[39m\u001b[39m=\u001b[39m\u001b[39mFalse\u001b[39;00m, before\u001b[39m=\u001b[39m\u001b[39mNone\u001b[39;00m, filters\u001b[39m=\u001b[39m\u001b[39mNone\u001b[39;00m, limit\u001b[39m=\u001b[39m\u001b[39m-\u001b[39m\u001b[39m1\u001b[39m, since\u001b[39m=\u001b[39m\u001b[39mNone\u001b[39;00m,\n\u001b[1;32m    <a href='file:///usr/lib/python3/dist-packages/docker/models/containers.py?line=883'>884</a>\u001b[0m          sparse\u001b[39m=\u001b[39m\u001b[39mFalse\u001b[39;00m, ignore_removed\u001b[39m=\u001b[39m\u001b[39mFalse\u001b[39;00m):\n\u001b[1;32m    <a href='file:///usr/lib/python3/dist-packages/docker/models/containers.py?line=884'>885</a>\u001b[0m     \u001b[39m\"\"\"\u001b[39;00m\n\u001b[1;32m    <a href='file:///usr/lib/python3/dist-packages/docker/models/containers.py?line=885'>886</a>\u001b[0m \u001b[39m    List containers. Similar to the ``docker ps`` command.\u001b[39;00m\n\u001b[1;32m    <a href='file:///usr/lib/python3/dist-packages/docker/models/containers.py?line=886'>887</a>\u001b[0m \n\u001b[0;32m   (...)\u001b[0m\n\u001b[1;32m    <a href='file:///usr/lib/python3/dist-packages/docker/models/containers.py?line=932'>933</a>\u001b[0m \u001b[39m            If the server returns an error.\u001b[39;00m\n\u001b[1;32m    <a href='file:///usr/lib/python3/dist-packages/docker/models/containers.py?line=933'>934</a>\u001b[0m \u001b[39m    \"\"\"\u001b[39;00m\n\u001b[0;32m--> <a href='file:///usr/lib/python3/dist-packages/docker/models/containers.py?line=934'>935</a>\u001b[0m     resp \u001b[39m=\u001b[39m \u001b[39mself\u001b[39;49m\u001b[39m.\u001b[39;49mclient\u001b[39m.\u001b[39;49mapi\u001b[39m.\u001b[39;49mcontainers(\u001b[39mall\u001b[39;49m\u001b[39m=\u001b[39;49m\u001b[39mall\u001b[39;49m, before\u001b[39m=\u001b[39;49mbefore,\n\u001b[1;32m    <a href='file:///usr/lib/python3/dist-packages/docker/models/containers.py?line=935'>936</a>\u001b[0m                                       filters\u001b[39m=\u001b[39;49mfilters, limit\u001b[39m=\u001b[39;49mlimit,\n\u001b[1;32m    <a href='file:///usr/lib/python3/dist-packages/docker/models/containers.py?line=936'>937</a>\u001b[0m                                       since\u001b[39m=\u001b[39;49msince)\n\u001b[1;32m    <a href='file:///usr/lib/python3/dist-packages/docker/models/containers.py?line=937'>938</a>\u001b[0m     \u001b[39mif\u001b[39;00m sparse:\n\u001b[1;32m    <a href='file:///usr/lib/python3/dist-packages/docker/models/containers.py?line=938'>939</a>\u001b[0m         \u001b[39mreturn\u001b[39;00m [\u001b[39mself\u001b[39m\u001b[39m.\u001b[39mprepare_model(r) \u001b[39mfor\u001b[39;00m r \u001b[39min\u001b[39;00m resp]\n",
      "File \u001b[0;32m/usr/lib/python3/dist-packages/docker/api/container.py:211\u001b[0m, in \u001b[0;36mContainerApiMixin.containers\u001b[0;34m(self, quiet, all, trunc, latest, since, before, limit, size, filters)\u001b[0m\n\u001b[1;32m    <a href='file:///usr/lib/python3/dist-packages/docker/api/container.py?line=208'>209</a>\u001b[0m     params[\u001b[39m'\u001b[39m\u001b[39mfilters\u001b[39m\u001b[39m'\u001b[39m] \u001b[39m=\u001b[39m utils\u001b[39m.\u001b[39mconvert_filters(filters)\n\u001b[1;32m    <a href='file:///usr/lib/python3/dist-packages/docker/api/container.py?line=209'>210</a>\u001b[0m u \u001b[39m=\u001b[39m \u001b[39mself\u001b[39m\u001b[39m.\u001b[39m_url(\u001b[39m\"\u001b[39m\u001b[39m/containers/json\u001b[39m\u001b[39m\"\u001b[39m)\n\u001b[0;32m--> <a href='file:///usr/lib/python3/dist-packages/docker/api/container.py?line=210'>211</a>\u001b[0m res \u001b[39m=\u001b[39m \u001b[39mself\u001b[39m\u001b[39m.\u001b[39m_result(\u001b[39mself\u001b[39;49m\u001b[39m.\u001b[39;49m_get(u, params\u001b[39m=\u001b[39;49mparams), \u001b[39mTrue\u001b[39;00m)\n\u001b[1;32m    <a href='file:///usr/lib/python3/dist-packages/docker/api/container.py?line=212'>213</a>\u001b[0m \u001b[39mif\u001b[39;00m quiet:\n\u001b[1;32m    <a href='file:///usr/lib/python3/dist-packages/docker/api/container.py?line=213'>214</a>\u001b[0m     \u001b[39mreturn\u001b[39;00m [{\u001b[39m'\u001b[39m\u001b[39mId\u001b[39m\u001b[39m'\u001b[39m: x[\u001b[39m'\u001b[39m\u001b[39mId\u001b[39m\u001b[39m'\u001b[39m]} \u001b[39mfor\u001b[39;00m x \u001b[39min\u001b[39;00m res]\n",
      "File \u001b[0;32m/usr/lib/python3/dist-packages/docker/utils/decorators.py:46\u001b[0m, in \u001b[0;36mupdate_headers.<locals>.inner\u001b[0;34m(self, *args, **kwargs)\u001b[0m\n\u001b[1;32m     <a href='file:///usr/lib/python3/dist-packages/docker/utils/decorators.py?line=43'>44</a>\u001b[0m     \u001b[39melse\u001b[39;00m:\n\u001b[1;32m     <a href='file:///usr/lib/python3/dist-packages/docker/utils/decorators.py?line=44'>45</a>\u001b[0m         kwargs[\u001b[39m'\u001b[39m\u001b[39mheaders\u001b[39m\u001b[39m'\u001b[39m]\u001b[39m.\u001b[39mupdate(\u001b[39mself\u001b[39m\u001b[39m.\u001b[39m_general_configs[\u001b[39m'\u001b[39m\u001b[39mHttpHeaders\u001b[39m\u001b[39m'\u001b[39m])\n\u001b[0;32m---> <a href='file:///usr/lib/python3/dist-packages/docker/utils/decorators.py?line=45'>46</a>\u001b[0m \u001b[39mreturn\u001b[39;00m f(\u001b[39mself\u001b[39;49m, \u001b[39m*\u001b[39;49margs, \u001b[39m*\u001b[39;49m\u001b[39m*\u001b[39;49mkwargs)\n",
      "File \u001b[0;32m/usr/lib/python3/dist-packages/docker/api/client.py:230\u001b[0m, in \u001b[0;36mAPIClient._get\u001b[0;34m(self, url, **kwargs)\u001b[0m\n\u001b[1;32m    <a href='file:///usr/lib/python3/dist-packages/docker/api/client.py?line=227'>228</a>\u001b[0m \u001b[39m@update_headers\u001b[39m\n\u001b[1;32m    <a href='file:///usr/lib/python3/dist-packages/docker/api/client.py?line=228'>229</a>\u001b[0m \u001b[39mdef\u001b[39;00m \u001b[39m_get\u001b[39m(\u001b[39mself\u001b[39m, url, \u001b[39m*\u001b[39m\u001b[39m*\u001b[39mkwargs):\n\u001b[0;32m--> <a href='file:///usr/lib/python3/dist-packages/docker/api/client.py?line=229'>230</a>\u001b[0m     \u001b[39mreturn\u001b[39;00m \u001b[39mself\u001b[39;49m\u001b[39m.\u001b[39;49mget(url, \u001b[39m*\u001b[39;49m\u001b[39m*\u001b[39;49m\u001b[39mself\u001b[39;49m\u001b[39m.\u001b[39;49m_set_request_timeout(kwargs))\n",
      "File \u001b[0;32m~/.local/lib/python3.8/site-packages/requests/sessions.py:542\u001b[0m, in \u001b[0;36mSession.get\u001b[0;34m(self, url, **kwargs)\u001b[0m\n\u001b[1;32m    <a href='file:///home/pranshu/.local/lib/python3.8/site-packages/requests/sessions.py?line=533'>534</a>\u001b[0m \u001b[39mr\u001b[39m\u001b[39m\"\"\"Sends a GET request. Returns :class:`Response` object.\u001b[39;00m\n\u001b[1;32m    <a href='file:///home/pranshu/.local/lib/python3.8/site-packages/requests/sessions.py?line=534'>535</a>\u001b[0m \n\u001b[1;32m    <a href='file:///home/pranshu/.local/lib/python3.8/site-packages/requests/sessions.py?line=535'>536</a>\u001b[0m \u001b[39m:param url: URL for the new :class:`Request` object.\u001b[39;00m\n\u001b[1;32m    <a href='file:///home/pranshu/.local/lib/python3.8/site-packages/requests/sessions.py?line=536'>537</a>\u001b[0m \u001b[39m:param \\*\\*kwargs: Optional arguments that ``request`` takes.\u001b[39;00m\n\u001b[1;32m    <a href='file:///home/pranshu/.local/lib/python3.8/site-packages/requests/sessions.py?line=537'>538</a>\u001b[0m \u001b[39m:rtype: requests.Response\u001b[39;00m\n\u001b[1;32m    <a href='file:///home/pranshu/.local/lib/python3.8/site-packages/requests/sessions.py?line=538'>539</a>\u001b[0m \u001b[39m\"\"\"\u001b[39;00m\n\u001b[1;32m    <a href='file:///home/pranshu/.local/lib/python3.8/site-packages/requests/sessions.py?line=540'>541</a>\u001b[0m kwargs\u001b[39m.\u001b[39msetdefault(\u001b[39m'\u001b[39m\u001b[39mallow_redirects\u001b[39m\u001b[39m'\u001b[39m, \u001b[39mTrue\u001b[39;00m)\n\u001b[0;32m--> <a href='file:///home/pranshu/.local/lib/python3.8/site-packages/requests/sessions.py?line=541'>542</a>\u001b[0m \u001b[39mreturn\u001b[39;00m \u001b[39mself\u001b[39;49m\u001b[39m.\u001b[39;49mrequest(\u001b[39m'\u001b[39;49m\u001b[39mGET\u001b[39;49m\u001b[39m'\u001b[39;49m, url, \u001b[39m*\u001b[39;49m\u001b[39m*\u001b[39;49mkwargs)\n",
      "File \u001b[0;32m~/.local/lib/python3.8/site-packages/requests/sessions.py:529\u001b[0m, in \u001b[0;36mSession.request\u001b[0;34m(self, method, url, params, data, headers, cookies, files, auth, timeout, allow_redirects, proxies, hooks, stream, verify, cert, json)\u001b[0m\n\u001b[1;32m    <a href='file:///home/pranshu/.local/lib/python3.8/site-packages/requests/sessions.py?line=523'>524</a>\u001b[0m send_kwargs \u001b[39m=\u001b[39m {\n\u001b[1;32m    <a href='file:///home/pranshu/.local/lib/python3.8/site-packages/requests/sessions.py?line=524'>525</a>\u001b[0m     \u001b[39m'\u001b[39m\u001b[39mtimeout\u001b[39m\u001b[39m'\u001b[39m: timeout,\n\u001b[1;32m    <a href='file:///home/pranshu/.local/lib/python3.8/site-packages/requests/sessions.py?line=525'>526</a>\u001b[0m     \u001b[39m'\u001b[39m\u001b[39mallow_redirects\u001b[39m\u001b[39m'\u001b[39m: allow_redirects,\n\u001b[1;32m    <a href='file:///home/pranshu/.local/lib/python3.8/site-packages/requests/sessions.py?line=526'>527</a>\u001b[0m }\n\u001b[1;32m    <a href='file:///home/pranshu/.local/lib/python3.8/site-packages/requests/sessions.py?line=527'>528</a>\u001b[0m send_kwargs\u001b[39m.\u001b[39mupdate(settings)\n\u001b[0;32m--> <a href='file:///home/pranshu/.local/lib/python3.8/site-packages/requests/sessions.py?line=528'>529</a>\u001b[0m resp \u001b[39m=\u001b[39m \u001b[39mself\u001b[39;49m\u001b[39m.\u001b[39;49msend(prep, \u001b[39m*\u001b[39;49m\u001b[39m*\u001b[39;49msend_kwargs)\n\u001b[1;32m    <a href='file:///home/pranshu/.local/lib/python3.8/site-packages/requests/sessions.py?line=530'>531</a>\u001b[0m \u001b[39mreturn\u001b[39;00m resp\n",
      "File \u001b[0;32m~/.local/lib/python3.8/site-packages/requests/sessions.py:645\u001b[0m, in \u001b[0;36mSession.send\u001b[0;34m(self, request, **kwargs)\u001b[0m\n\u001b[1;32m    <a href='file:///home/pranshu/.local/lib/python3.8/site-packages/requests/sessions.py?line=641'>642</a>\u001b[0m start \u001b[39m=\u001b[39m preferred_clock()\n\u001b[1;32m    <a href='file:///home/pranshu/.local/lib/python3.8/site-packages/requests/sessions.py?line=643'>644</a>\u001b[0m \u001b[39m# Send the request\u001b[39;00m\n\u001b[0;32m--> <a href='file:///home/pranshu/.local/lib/python3.8/site-packages/requests/sessions.py?line=644'>645</a>\u001b[0m r \u001b[39m=\u001b[39m adapter\u001b[39m.\u001b[39;49msend(request, \u001b[39m*\u001b[39;49m\u001b[39m*\u001b[39;49mkwargs)\n\u001b[1;32m    <a href='file:///home/pranshu/.local/lib/python3.8/site-packages/requests/sessions.py?line=646'>647</a>\u001b[0m \u001b[39m# Total elapsed time of the request (approximately)\u001b[39;00m\n\u001b[1;32m    <a href='file:///home/pranshu/.local/lib/python3.8/site-packages/requests/sessions.py?line=647'>648</a>\u001b[0m elapsed \u001b[39m=\u001b[39m preferred_clock() \u001b[39m-\u001b[39m start\n",
      "File \u001b[0;32m~/.local/lib/python3.8/site-packages/requests/adapters.py:501\u001b[0m, in \u001b[0;36mHTTPAdapter.send\u001b[0;34m(self, request, stream, timeout, verify, cert, proxies)\u001b[0m\n\u001b[1;32m    <a href='file:///home/pranshu/.local/lib/python3.8/site-packages/requests/adapters.py?line=497'>498</a>\u001b[0m             \u001b[39mraise\u001b[39;00m\n\u001b[1;32m    <a href='file:///home/pranshu/.local/lib/python3.8/site-packages/requests/adapters.py?line=499'>500</a>\u001b[0m \u001b[39mexcept\u001b[39;00m (ProtocolError, socket\u001b[39m.\u001b[39merror) \u001b[39mas\u001b[39;00m err:\n\u001b[0;32m--> <a href='file:///home/pranshu/.local/lib/python3.8/site-packages/requests/adapters.py?line=500'>501</a>\u001b[0m     \u001b[39mraise\u001b[39;00m \u001b[39mConnectionError\u001b[39;00m(err, request\u001b[39m=\u001b[39mrequest)\n\u001b[1;32m    <a href='file:///home/pranshu/.local/lib/python3.8/site-packages/requests/adapters.py?line=502'>503</a>\u001b[0m \u001b[39mexcept\u001b[39;00m MaxRetryError \u001b[39mas\u001b[39;00m e:\n\u001b[1;32m    <a href='file:///home/pranshu/.local/lib/python3.8/site-packages/requests/adapters.py?line=503'>504</a>\u001b[0m     \u001b[39mif\u001b[39;00m \u001b[39misinstance\u001b[39m(e\u001b[39m.\u001b[39mreason, ConnectTimeoutError):\n\u001b[1;32m    <a href='file:///home/pranshu/.local/lib/python3.8/site-packages/requests/adapters.py?line=504'>505</a>\u001b[0m         \u001b[39m# TODO: Remove this in 3.0.0: see #2811\u001b[39;00m\n",
      "\u001b[0;31mConnectionError\u001b[0m: ('Connection aborted.', PermissionError(13, 'Permission denied'))"
     ]
    }
   ],
   "source": [
    "print(client.containers.list())"
   ]
  },
  {
   "cell_type": "code",
   "execution_count": 3,
   "metadata": {},
   "outputs": [],
   "source": [
    "repo = \"digitalocean/flask-helloworld\"\n",
    "image = client.images.pull(repo)"
   ]
  },
  {
   "cell_type": "code",
   "execution_count": 4,
   "metadata": {},
   "outputs": [
    {
     "data": {
      "text/plain": [
       "[<Image: ''>,\n",
       " <Image: ''>,\n",
       " <Image: ''>,\n",
       " <Image: ''>,\n",
       " <Image: ''>,\n",
       " <Image: ''>,\n",
       " <Image: 'ubuntu:base'>,\n",
       " <Image: 'postgis/postgis:latest'>,\n",
       " <Image: 'ubuntu:latest'>,\n",
       " <Image: 'redis:6.0'>,\n",
       " <Image: 'postgres:13.0'>,\n",
       " <Image: 'digitalocean/flask-helloworld:latest'>]"
      ]
     },
     "execution_count": 4,
     "metadata": {},
     "output_type": "execute_result"
    }
   ],
   "source": [
    "client.images.list()"
   ]
  },
  {
   "cell_type": "code",
   "execution_count": 5,
   "metadata": {},
   "outputs": [],
   "source": [
    "from socket import socket\n",
    "freeport = \"\"\n",
    "with socket() as s:\n",
    "    s.bind(('',0))\n",
    "    freeport = s.getsockname()[1]"
   ]
  },
  {
   "cell_type": "code",
   "execution_count": 6,
   "metadata": {},
   "outputs": [],
   "source": [
    "container = client.containers.run('digitalocean/flask-helloworld:latest' , ports = {5000 : freeport} , detach=True)"
   ]
  },
  {
   "cell_type": "code",
   "execution_count": 7,
   "metadata": {},
   "outputs": [
    {
     "name": "stdout",
     "output_type": "stream",
     "text": [
      "56199\n"
     ]
    }
   ],
   "source": [
    "print(freeport)"
   ]
  },
  {
   "cell_type": "code",
   "execution_count": 10,
   "metadata": {},
   "outputs": [],
   "source": [
    "filepath = \"app.zip\"\n",
    "appname = \"flask-helloworld\"\n",
    "with ZipFile(filepath , 'r') as zipObj:\n",
    "    zipObj.extractall(appname)\n",
    "    zipImage = client.images.build(path = appname)"
   ]
  },
  {
   "cell_type": "code",
   "execution_count": 11,
   "metadata": {},
   "outputs": [
    {
     "data": {
      "text/plain": [
       "[<Image: ''>,\n",
       " <Image: 'python:3-alpine'>,\n",
       " <Image: ''>,\n",
       " <Image: ''>,\n",
       " <Image: ''>,\n",
       " <Image: ''>,\n",
       " <Image: ''>,\n",
       " <Image: ''>,\n",
       " <Image: 'ubuntu:base'>,\n",
       " <Image: 'postgis/postgis:latest'>,\n",
       " <Image: 'ubuntu:latest'>,\n",
       " <Image: 'redis:6.0'>,\n",
       " <Image: 'postgres:13.0'>,\n",
       " <Image: 'digitalocean/flask-helloworld:latest'>]"
      ]
     },
     "execution_count": 11,
     "metadata": {},
     "output_type": "execute_result"
    }
   ],
   "source": [
    "client.images.list()"
   ]
  },
  {
   "cell_type": "code",
   "execution_count": null,
   "metadata": {},
   "outputs": [],
   "source": [
    "container = client.containers.run('digitalocean/flask-helloworld:latest' , ports = {5000 : freeport} , detach=True)"
   ]
  }
 ],
 "metadata": {
  "kernelspec": {
   "display_name": "Python 3 (ipykernel)",
   "language": "python",
   "name": "python3"
  },
  "language_info": {
   "codemirror_mode": {
    "name": "ipython",
    "version": 3
   },
   "file_extension": ".py",
   "mimetype": "text/x-python",
   "name": "python",
   "nbconvert_exporter": "python",
   "pygments_lexer": "ipython3",
   "version": "3.8.10"
  }
 },
 "nbformat": 4,
 "nbformat_minor": 4
}
